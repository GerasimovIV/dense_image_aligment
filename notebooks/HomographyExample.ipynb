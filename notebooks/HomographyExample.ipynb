{
  "cells": [
    {
      "cell_type": "code",
      "execution_count": 1,
      "metadata": {},
      "outputs": [],
      "source": [
        "import numpy as np\n",
        "import matplotlib.pyplot as plt \n",
        "\n",
        "from dense_image_aligment import show_data, image_aligment_method, read_as_grayscale\n",
        "from dense_image_aligment import save_aligment_progress, read_as_colored, show_data\n",
        "from dense_image_aligment.transformations import HomographyTransformation\n",
        "\n",
        "import cv2"
      ]
    },
    {
      "cell_type": "code",
      "execution_count": 2,
      "metadata": {},
      "outputs": [],
      "source": [
        "def create_simple_gauss(mu, sigma, shape):\n",
        "    x = np.linspace(0, 1, shape[0])\n",
        "    y = np.linspace(0, 1, shape[1])\n",
        "    \n",
        "    xx, yy = np.meshgrid(x, y, indexing='xy')\n",
        "    \n",
        "    z = np.exp(-( (xx - mu[0])**2 / (sigma[0]**2) +  (yy - mu[1])**2 / (sigma[1]**2)) / 2) / (np.sqrt(sigma[0]**2 + sigma[1]**2) * np.sqrt(2 * np.pi))\n",
        "    return z\n",
        "\n",
        "\n",
        "def create_simple_L(shape):\n",
        "    mask = np.zeros(shape, dtype=np.float32)\n",
        "    mask[shape[0] // 5 : shape[0] * 4 // 5, shape[1] // 5 : shape[1] * 2 // 5] = 1.\n",
        "    mask[shape[0] // 2 : shape[0] * 4 // 5, shape[1] // 5 : shape[1] * 4 // 5] = 1.\n",
        "    \n",
        "    return mask "
      ]
    },
    {
      "cell_type": "code",
      "execution_count": 3,
      "metadata": {},
      "outputs": [],
      "source": [
        "# template = create_simple_gauss([0.5, 0.5], [0.1, 0.1], [100, 100])\n",
        "# image = create_simple_gauss([0.5, 0.5], [0.1, 0.1], [100, 100])\n",
        "template = create_simple_L([100, 90])\n",
        "image = create_simple_L([100, 90])"
      ]
    },
    {
      "cell_type": "code",
      "execution_count": 4,
      "metadata": {},
      "outputs": [],
      "source": [
        "method, params = image_aligment_method(key='forward_additive')\n",
        "params['alpha'] = 1.0\n",
        "params['max_iterations'] = 500\n",
        "params['convergence_threshold'] = 0.000001\n",
        "params['p_init'] = np.array(\n",
        "    [\n",
        "        [1, 0.01, -5.], \n",
        "        [0.1, 1., 0.],\n",
        "        [0.005, 0.001, 1.0],\n",
        "    ]\n",
        ").reshape(-1)[:8]\n",
        "# params['p_init'] = np.array(\n",
        "#     [\n",
        "#         [1, 0.0, -50.], \n",
        "#         [0., 1., -10.],\n",
        "#         [0.0, 0.0, 1.0],\n",
        "#     ]\n",
        "# ).reshape(-1)[:8]\n",
        "\n",
        "transform = HomographyTransformation(params['p_init'])"
      ]
    },
    {
      "cell_type": "code",
      "execution_count": 5,
      "metadata": {},
      "outputs": [
        {
          "data": {
            "text/plain": [
              "array([ 1.e+00,  1.e-02, -5.e+00,  1.e-01,  1.e+00,  0.e+00,  5.e-03,\n",
              "        1.e-03])"
            ]
          },
          "execution_count": 5,
          "metadata": {},
          "output_type": "execute_result"
        }
      ],
      "source": [
        "params['p_init']"
      ]
    },
    {
      "cell_type": "code",
      "execution_count": 6,
      "metadata": {},
      "outputs": [
        {
          "data": {
            "image/png": "[encoded data removed]",
            "text/plain": [
              "<Figure size 640x480 with 1 Axes>"
            ]
          },
          "metadata": {},
          "output_type": "display_data"
        }
      ],
      "source": [
        "show_data(\n",
        "    image=image, \n",
        "    template=template, \n",
        "    coords_transform=transform\n",
        ")"
      ]
    },
    {
      "cell_type": "code",
      "execution_count": 7,
      "metadata": {},
      "outputs": [
        {
          "name": "stderr",
          "output_type": "stream",
          "text": [
            "iteration: 13, |∇p|=0.00000:   3%|▎         | 13/500 [00:00<00:37, 13.00it/s]"
          ]
        },
        {
          "name": "stdout",
          "output_type": "stream",
          "text": [
            "Converged\n"
          ]
        },
        {
          "name": "stderr",
          "output_type": "stream",
          "text": [
            "\n"
          ]
        }
      ],
      "source": [
        "ps = method(\n",
        "    image=image,\n",
        "    template=template,\n",
        "    coord_transform=transform,\n",
        "    **params\n",
        ")"
      ]
    },
    {
      "cell_type": "code",
      "execution_count": 8,
      "metadata": {},
      "outputs": [
        {
          "data": {
            "text/plain": [
              "array([ 1.,  0.,  0.,  0.,  1.,  0.,  0., -0.])"
            ]
          },
          "execution_count": 8,
          "metadata": {},
          "output_type": "execute_result"
        }
      ],
      "source": [
        "ps[-1].round(2)"
      ]
    },
    {
      "cell_type": "code",
      "execution_count": 9,
      "metadata": {},
      "outputs": [
        {
          "data": {
            "image/png": "[encoded data removed]",
            "text/plain": [
              "<Figure size 640x480 with 1 Axes>"
            ]
          },
          "metadata": {},
          "output_type": "display_data"
        }
      ],
      "source": [
        "transform.p = ps[-1]\n",
        "\n",
        "show_data(\n",
        "    image=image, \n",
        "    template=template, \n",
        "    coords_transform=transform\n",
        ")"
      ]
    },
    {
      "cell_type": "code",
      "execution_count": 11,
      "metadata": {},
      "outputs": [
        {
          "name": "stderr",
          "output_type": "stream",
          "text": [
            "100%|██████████| 15/15 [00:01<00:00,  8.56it/s]\n"
          ]
        },
        {
          "data": {
            "image/png": "[encoded data removed]",
            "text/plain": [
              "<Figure size 640x480 with 1 Axes>"
            ]
          },
          "metadata": {},
          "output_type": "display_data"
        }
      ],
      "source": [
        "save_aligment_progress(\n",
        "    f'../docs/images/homography_alignment_example.gif',\n",
        "    image=image,\n",
        "    template=template,\n",
        "    coords_transform=transform,\n",
        "    ps=ps,\n",
        "    duration=200,\n",
        ")"
      ]
    },
    {
      "cell_type": "code",
      "execution_count": null,
      "metadata": {},
      "outputs": [],
      "source": []
    }
  ],
  "metadata": {
    "kernelspec": {
      "display_name": ".venv",
      "language": "python",
      "name": "python3"
    },
    "language_info": {
      "codemirror_mode": {
        "name": "ipython",
        "version": 3
      },
      "file_extension": ".py",
      "mimetype": "text/x-python",
      "name": "python",
      "nbconvert_exporter": "python",
      "pygments_lexer": "ipython3",
      "version": "3.10.12"
    },
    "orig_nbformat": 4
  },
  "nbformat": 4,
  "nbformat_minor": 2
}
